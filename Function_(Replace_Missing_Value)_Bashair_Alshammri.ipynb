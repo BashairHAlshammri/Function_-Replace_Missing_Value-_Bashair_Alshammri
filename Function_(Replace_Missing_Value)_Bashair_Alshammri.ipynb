{
 "cells": [
  {
   "cell_type": "markdown",
   "id": "8722a954",
   "metadata": {},
   "source": [
    "## Bouns Function (Replace_Missing_Value)\n",
    "### The functions handling the missing value or null value in a different way (by mean , median , mode , backward , forward fill , both back and forward fill)\n",
    "### Bashair Alshammri - Data Science Bootcamp "
   ]
  },
  {
   "cell_type": "code",
   "execution_count": 1,
   "id": "7998d654",
   "metadata": {},
   "outputs": [],
   "source": [
    "#library\n",
    "import pandas as pd\n",
    "import numpy as np\n",
    "import math\n",
    "from statistics import mean, median, mode, stdev\n"
   ]
  },
  {
   "cell_type": "code",
   "execution_count": 24,
   "id": "c1d532ee",
   "metadata": {},
   "outputs": [],
   "source": [
    "# creating a Data frame that contain missing value and category value for test the bouns function\n",
    "df = pd.DataFrame(\n",
    "    {\n",
    "        'category': [True, True, True, True, True, True, False, False, False],\n",
    "        'name': ['A','A', 'B','B','B','B', 'C','C','C'],\n",
    "        'other_value': [10, np.nan, np.nan, 20, 30, 10, 30, np.nan, 30],\n",
    "        'value': [1, np.nan, np.nan, 2, 3, 1, 3, np.nan, 3],\n",
    "    }\n",
    ")"
   ]
  },
  {
   "cell_type": "code",
   "execution_count": 25,
   "id": "333cfa3f",
   "metadata": {},
   "outputs": [
    {
     "data": {
      "text/html": [
       "<div>\n",
       "<style scoped>\n",
       "    .dataframe tbody tr th:only-of-type {\n",
       "        vertical-align: middle;\n",
       "    }\n",
       "\n",
       "    .dataframe tbody tr th {\n",
       "        vertical-align: top;\n",
       "    }\n",
       "\n",
       "    .dataframe thead th {\n",
       "        text-align: right;\n",
       "    }\n",
       "</style>\n",
       "<table border=\"1\" class=\"dataframe\">\n",
       "  <thead>\n",
       "    <tr style=\"text-align: right;\">\n",
       "      <th></th>\n",
       "      <th>category</th>\n",
       "      <th>name</th>\n",
       "      <th>other_value</th>\n",
       "      <th>value</th>\n",
       "    </tr>\n",
       "  </thead>\n",
       "  <tbody>\n",
       "    <tr>\n",
       "      <th>0</th>\n",
       "      <td>True</td>\n",
       "      <td>A</td>\n",
       "      <td>10.0</td>\n",
       "      <td>1.0</td>\n",
       "    </tr>\n",
       "    <tr>\n",
       "      <th>1</th>\n",
       "      <td>True</td>\n",
       "      <td>A</td>\n",
       "      <td>NaN</td>\n",
       "      <td>NaN</td>\n",
       "    </tr>\n",
       "    <tr>\n",
       "      <th>2</th>\n",
       "      <td>True</td>\n",
       "      <td>B</td>\n",
       "      <td>NaN</td>\n",
       "      <td>NaN</td>\n",
       "    </tr>\n",
       "    <tr>\n",
       "      <th>3</th>\n",
       "      <td>True</td>\n",
       "      <td>B</td>\n",
       "      <td>20.0</td>\n",
       "      <td>2.0</td>\n",
       "    </tr>\n",
       "    <tr>\n",
       "      <th>4</th>\n",
       "      <td>True</td>\n",
       "      <td>B</td>\n",
       "      <td>30.0</td>\n",
       "      <td>3.0</td>\n",
       "    </tr>\n",
       "    <tr>\n",
       "      <th>5</th>\n",
       "      <td>True</td>\n",
       "      <td>B</td>\n",
       "      <td>10.0</td>\n",
       "      <td>1.0</td>\n",
       "    </tr>\n",
       "    <tr>\n",
       "      <th>6</th>\n",
       "      <td>False</td>\n",
       "      <td>C</td>\n",
       "      <td>30.0</td>\n",
       "      <td>3.0</td>\n",
       "    </tr>\n",
       "    <tr>\n",
       "      <th>7</th>\n",
       "      <td>False</td>\n",
       "      <td>C</td>\n",
       "      <td>NaN</td>\n",
       "      <td>NaN</td>\n",
       "    </tr>\n",
       "    <tr>\n",
       "      <th>8</th>\n",
       "      <td>False</td>\n",
       "      <td>C</td>\n",
       "      <td>30.0</td>\n",
       "      <td>3.0</td>\n",
       "    </tr>\n",
       "  </tbody>\n",
       "</table>\n",
       "</div>"
      ],
      "text/plain": [
       "   category name  other_value  value\n",
       "0      True    A         10.0    1.0\n",
       "1      True    A          NaN    NaN\n",
       "2      True    B          NaN    NaN\n",
       "3      True    B         20.0    2.0\n",
       "4      True    B         30.0    3.0\n",
       "5      True    B         10.0    1.0\n",
       "6     False    C         30.0    3.0\n",
       "7     False    C          NaN    NaN\n",
       "8     False    C         30.0    3.0"
      ]
     },
     "execution_count": 25,
     "metadata": {},
     "output_type": "execute_result"
    }
   ],
   "source": [
    "df"
   ]
  },
  {
   "cell_type": "code",
   "execution_count": 26,
   "id": "ed8e7c0c",
   "metadata": {},
   "outputs": [],
   "source": [
    "# creating function that check the type of column and it return boolean value\n",
    "def is_cat(column):\n",
    "    categorical_dtypes = ['object', 'category', 'bool']\n",
    "    if column.dtype.name in categorical_dtypes:\n",
    "        return True\n",
    "    else:\n",
    "        return False"
   ]
  },
  {
   "cell_type": "code",
   "execution_count": 5,
   "id": "86dde3fe",
   "metadata": {},
   "outputs": [
    {
     "data": {
      "text/plain": [
       "['value']"
      ]
     },
     "execution_count": 5,
     "metadata": {},
     "output_type": "execute_result"
    }
   ],
   "source": [
    "column_names = ['other_value','name']# create a list of category column just for test \n",
    "column_names\n",
    "columnWithMissingValue1 = ['value']# create a column that contain a missing value\n",
    "columnWithMissingValue1"
   ]
  },
  {
   "cell_type": "code",
   "execution_count": 27,
   "id": "bc31b72f",
   "metadata": {},
   "outputs": [],
   "source": [
    "# create a function that replace a missing value depend on the criteria\n",
    "def replace_Missing_Value(df , listOfNames , columnWithMissingValue , Criteria):\n",
    "   # here i test all list of column name if categorical or not\n",
    "    test_cat = True\n",
    "    for i in listOfNames:\n",
    "        if is_cat(df[i])==True:\n",
    "            test_cat = test_cat\n",
    "        else:\n",
    "            test_cat = False\n",
    "   # here i replace the missing value depend on the criteria         \n",
    "    if test_cat == True :\n",
    "        if Criteria == 'mean':\n",
    "            df[columnWithMissingValue] = df.groupby(listOfNames)[columnWithMissingValue]\\\n",
    "                .transform(lambda x: x.fillna(x.mean()))\n",
    "        elif Criteria == 'median':\n",
    "            df[columnWithMissingValue] = df.groupby(listOfNames)[columnWithMissingValue]\\\n",
    "                .apply(lambda x: x.fillna(x.median()))\n",
    "        elif Criteria == 'mode':\n",
    "            df[columnWithMissingValue] = df.groupby(listOfNames , sort=False)[columnWithMissingValue]\\\n",
    "                .apply(lambda x: x.fillna(x.mode().iloc[0]))\n",
    "                \n",
    "        elif Criteria == 'Forward':\n",
    "            df[columnWithMissingValue] = df.groupby(listOfNames)[columnWithMissingValue].ffill()\n",
    "        elif Criteria == 'Backward':\n",
    "            df[columnWithMissingValue] = df.groupby(listOfNames)[columnWithMissingValue].bfill()\n",
    "        elif Criteria == 'Combining': \n",
    "            df[columnWithMissingValue] = df.groupby(listOfNames)[columnWithMissingValue].ffill().bfill()\n",
    "        else :\n",
    "            print(\"invalid input for criteria\")\n",
    "            \n",
    "    else :\n",
    "        print(\"invalid input of category list\")\n",
    "   \n",
    "    return df        "
   ]
  },
  {
   "cell_type": "code",
   "execution_count": 7,
   "id": "305e1fd0",
   "metadata": {},
   "outputs": [
    {
     "name": "stdout",
     "output_type": "stream",
     "text": [
      "invalid input of category list\n",
      "  category name  other_value  value\n",
      "0        X    A         10.0    1.0\n",
      "1        X    A          NaN    NaN\n",
      "2        X    B          NaN    NaN\n",
      "3        X    B         20.0    2.0\n",
      "4        X    B         30.0    3.0\n",
      "5        X    B         10.0    1.0\n",
      "6        Y    C         30.0    3.0\n",
      "7        Y    C          NaN    NaN\n",
      "8        Y    C         30.0    3.0\n"
     ]
    }
   ],
   "source": [
    " print(replace_Missing_Value( df , column_names , columnWithMissingValue1 , 'Criteria' )) # test"
   ]
  },
  {
   "cell_type": "code",
   "execution_count": 28,
   "id": "8632af42",
   "metadata": {},
   "outputs": [],
   "source": [
    "column_names = ['category','name']# create a list of category column just for test \n",
    "columnWithMissingValue1 = ['value']# create a column that contain a missing value\n"
   ]
  },
  {
   "cell_type": "code",
   "execution_count": 9,
   "id": "812a2786",
   "metadata": {},
   "outputs": [
    {
     "name": "stdout",
     "output_type": "stream",
     "text": [
      "invalid input for criteria\n",
      "  category name  other_value  value\n",
      "0        X    A         10.0    1.0\n",
      "1        X    A          NaN    NaN\n",
      "2        X    B          NaN    NaN\n",
      "3        X    B         20.0    2.0\n",
      "4        X    B         30.0    3.0\n",
      "5        X    B         10.0    1.0\n",
      "6        Y    C         30.0    3.0\n",
      "7        Y    C          NaN    NaN\n",
      "8        Y    C         30.0    3.0\n"
     ]
    }
   ],
   "source": [
    "print(replace_Missing_Value( df , column_names , columnWithMissingValue1 , 'Criteria' )) # test"
   ]
  },
  {
   "cell_type": "code",
   "execution_count": 29,
   "id": "9c48f821",
   "metadata": {},
   "outputs": [
    {
     "name": "stdout",
     "output_type": "stream",
     "text": [
      "   category name  other_value  value\n",
      "0      True    A         10.0    1.0\n",
      "1      True    A          NaN    1.0\n",
      "2      True    B          NaN    2.0\n",
      "3      True    B         20.0    2.0\n",
      "4      True    B         30.0    3.0\n",
      "5      True    B         10.0    1.0\n",
      "6     False    C         30.0    3.0\n",
      "7     False    C          NaN    3.0\n",
      "8     False    C         30.0    3.0\n"
     ]
    }
   ],
   "source": [
    "print(replace_Missing_Value( df , column_names , columnWithMissingValue1 , 'mean' )) # test"
   ]
  },
  {
   "cell_type": "code",
   "execution_count": 11,
   "id": "c03c6231",
   "metadata": {},
   "outputs": [],
   "source": [
    "df = pd.DataFrame(\n",
    "    {\n",
    "        'category': ['X', 'X', 'X', 'X', 'X', 'X', 'Y', 'Y', 'Y'],\n",
    "        'name': ['A','A', 'B','B','B','B', 'C','C','C'],\n",
    "        'other_value': [10, np.nan, np.nan, 20, 30, 10, 30, np.nan, 30],\n",
    "        'value': [1, np.nan, np.nan, 2, 3, 1, 3, np.nan, 3],\n",
    "    }\n",
    ")"
   ]
  },
  {
   "cell_type": "code",
   "execution_count": 12,
   "id": "fc2267ac",
   "metadata": {},
   "outputs": [
    {
     "name": "stdout",
     "output_type": "stream",
     "text": [
      "  category name  other_value  value\n",
      "0        X    A         10.0    1.0\n",
      "1        X    A          NaN    1.0\n",
      "2        X    B          NaN    2.0\n",
      "3        X    B         20.0    2.0\n",
      "4        X    B         30.0    3.0\n",
      "5        X    B         10.0    1.0\n",
      "6        Y    C         30.0    3.0\n",
      "7        Y    C          NaN    3.0\n",
      "8        Y    C         30.0    3.0\n"
     ]
    }
   ],
   "source": [
    "print(replace_Missing_Value( df , column_names , columnWithMissingValue1 , 'median' )) # test"
   ]
  },
  {
   "cell_type": "code",
   "execution_count": 16,
   "id": "bee2a804",
   "metadata": {},
   "outputs": [],
   "source": [
    "df = pd.DataFrame(\n",
    "    {\n",
    "        'category': ['X', 'X', 'X', 'X', 'X', 'X', 'Y', 'Y', 'Y'],\n",
    "        'name': ['A','A', 'B','B','B','B', 'C','C','C'],\n",
    "        'other_value': [10, np.nan, np.nan, 20, 30, 10, 30, np.nan, 30],\n",
    "        'value': [1, np.nan, np.nan, 2, 3, 1, 3, np.nan, 3],\n",
    "    }\n",
    ")"
   ]
  },
  {
   "cell_type": "code",
   "execution_count": 17,
   "id": "ecbd0c0f",
   "metadata": {},
   "outputs": [
    {
     "name": "stdout",
     "output_type": "stream",
     "text": [
      "  category name  other_value  value\n",
      "0        X    A         10.0    1.0\n",
      "1        X    A          NaN    1.0\n",
      "2        X    B          NaN    1.0\n",
      "3        X    B         20.0    2.0\n",
      "4        X    B         30.0    3.0\n",
      "5        X    B         10.0    1.0\n",
      "6        Y    C         30.0    3.0\n",
      "7        Y    C          NaN    3.0\n",
      "8        Y    C         30.0    3.0\n"
     ]
    }
   ],
   "source": [
    "print(replace_Missing_Value( df , column_names , columnWithMissingValue1 , 'mode' )) # test"
   ]
  },
  {
   "cell_type": "code",
   "execution_count": 18,
   "id": "7b146e66",
   "metadata": {},
   "outputs": [],
   "source": [
    "df = pd.DataFrame(\n",
    "    {\n",
    "        'category': ['X', 'X', 'X', 'X', 'X', 'X', 'Y', 'Y', 'Y'],\n",
    "        'name': ['A','A', 'B','B','B','B', 'C','C','C'],\n",
    "        'other_value': [10, np.nan, np.nan, 20, 30, 10, 30, np.nan, 30],\n",
    "        'value': [1, np.nan, np.nan, 2, 3, 1, 3, np.nan, 3],\n",
    "    }\n",
    ")"
   ]
  },
  {
   "cell_type": "code",
   "execution_count": 19,
   "id": "1652881b",
   "metadata": {},
   "outputs": [
    {
     "name": "stdout",
     "output_type": "stream",
     "text": [
      "  category name  other_value  value\n",
      "0        X    A         10.0    1.0\n",
      "1        X    A          NaN    1.0\n",
      "2        X    B          NaN    NaN\n",
      "3        X    B         20.0    2.0\n",
      "4        X    B         30.0    3.0\n",
      "5        X    B         10.0    1.0\n",
      "6        Y    C         30.0    3.0\n",
      "7        Y    C          NaN    3.0\n",
      "8        Y    C         30.0    3.0\n"
     ]
    }
   ],
   "source": [
    "print(replace_Missing_Value( df , column_names , columnWithMissingValue1 , 'Forward' )) # test"
   ]
  },
  {
   "cell_type": "code",
   "execution_count": 20,
   "id": "8c98d253",
   "metadata": {},
   "outputs": [],
   "source": [
    "df = pd.DataFrame(\n",
    "    {\n",
    "        'category': ['X', 'X', 'X', 'X', 'X', 'X', 'Y', 'Y', 'Y'],\n",
    "        'name': ['A','A', 'B','B','B','B', 'C','C','C'],\n",
    "        'other_value': [10, np.nan, np.nan, 20, 30, 10, 30, np.nan, 30],\n",
    "        'value': [1, np.nan, np.nan, 2, 3, 1, 3, np.nan, 3],\n",
    "    }\n",
    ")"
   ]
  },
  {
   "cell_type": "code",
   "execution_count": 21,
   "id": "15a36f20",
   "metadata": {},
   "outputs": [
    {
     "name": "stdout",
     "output_type": "stream",
     "text": [
      "  category name  other_value  value\n",
      "0        X    A         10.0    1.0\n",
      "1        X    A          NaN    NaN\n",
      "2        X    B          NaN    2.0\n",
      "3        X    B         20.0    2.0\n",
      "4        X    B         30.0    3.0\n",
      "5        X    B         10.0    1.0\n",
      "6        Y    C         30.0    3.0\n",
      "7        Y    C          NaN    3.0\n",
      "8        Y    C         30.0    3.0\n"
     ]
    }
   ],
   "source": [
    "print(replace_Missing_Value( df , column_names , columnWithMissingValue1 , 'Backward' )) # test"
   ]
  },
  {
   "cell_type": "code",
   "execution_count": 22,
   "id": "f5b923bd",
   "metadata": {},
   "outputs": [],
   "source": [
    "df = pd.DataFrame(\n",
    "    {\n",
    "        'category': ['X', 'X', 'X', 'X', 'X', 'X', 'Y', 'Y', 'Y'],\n",
    "        'name': ['A','A', 'B','B','B','B', 'C','C','C'],\n",
    "        'other_value': [10, np.nan, np.nan, 20, 30, 10, 30, np.nan, 30],\n",
    "        'value': [1, np.nan, np.nan, 2, 3, 1, 3, np.nan, 3],\n",
    "    }\n",
    ")"
   ]
  },
  {
   "cell_type": "code",
   "execution_count": 23,
   "id": "d3b52394",
   "metadata": {},
   "outputs": [
    {
     "name": "stdout",
     "output_type": "stream",
     "text": [
      "  category name  other_value  value\n",
      "0        X    A         10.0    1.0\n",
      "1        X    A          NaN    1.0\n",
      "2        X    B          NaN    2.0\n",
      "3        X    B         20.0    2.0\n",
      "4        X    B         30.0    3.0\n",
      "5        X    B         10.0    1.0\n",
      "6        Y    C         30.0    3.0\n",
      "7        Y    C          NaN    3.0\n",
      "8        Y    C         30.0    3.0\n"
     ]
    }
   ],
   "source": [
    "print(replace_Missing_Value( df , column_names , columnWithMissingValue1 , 'Combining' )) # test"
   ]
  }
 ],
 "metadata": {
  "kernelspec": {
   "display_name": "Python 3 (ipykernel)",
   "language": "python",
   "name": "python3"
  },
  "language_info": {
   "codemirror_mode": {
    "name": "ipython",
    "version": 3
   },
   "file_extension": ".py",
   "mimetype": "text/x-python",
   "name": "python",
   "nbconvert_exporter": "python",
   "pygments_lexer": "ipython3",
   "version": "3.9.12"
  }
 },
 "nbformat": 4,
 "nbformat_minor": 5
}
